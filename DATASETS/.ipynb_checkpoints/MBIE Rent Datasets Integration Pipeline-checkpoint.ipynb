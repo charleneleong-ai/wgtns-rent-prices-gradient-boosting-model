{
 "cells": [
  {
   "cell_type": "markdown",
   "metadata": {},
   "source": [
    "### Importing libraries and datasets"
   ]
  },
  {
   "cell_type": "code",
   "execution_count": null,
   "metadata": {},
   "outputs": [],
   "source": [
    "import csv\n",
    "import pandas as pd\n",
    "import numpy as np\n",
    "\n",
    "mean_region_fname = 'Mean rents by region.csv'\n",
    "geometric_region_fname = 'Geometric mean rents by region.csv'\n",
    "lq_region_fname = 'Synthetic lower quartile rents by region.csv'\n",
    "uq_region_fname = 'Synthetic upper quartile rents by region.csv'\n",
    "\n",
    "mean_territory_fname = 'Mean rents by territorial authority.csv'\n",
    "geometric_territory_fname = 'Geometric mean rents by territorial authority.csv'\n",
    "lq_territory_fname = 'Synthetic lower quartile rents by territorial authority.csv'\n",
    "uq_territory_fname = 'Synthetic upper quartile rents by territorial authority.csv'\n",
    "\n",
    "lodged_bonds_region_fname = 'Lodged bonds by region.csv'\n",
    "lodged_bonds_territory_fname = 'Lodged bonds by territorial authority.csv'\n",
    "\n",
    "region_territory_fname = 'Region-Territorial Authority.csv'"
   ]
  },
  {
   "cell_type": "markdown",
   "metadata": {},
   "source": [
    "### Integrating Mean Rents By Region dataset"
   ]
  },
  {
   "cell_type": "code",
   "execution_count": null,
   "metadata": {},
   "outputs": [],
   "source": [
    "mean_region = pd.read_csv('RAW/MBIE Rental Bond Data/'+mean_region_fname, parse_dates=['Month'], dayfirst=True)\n",
    "mean_region"
   ]
  },
  {
   "cell_type": "code",
   "execution_count": null,
   "metadata": {
    "scrolled": true
   },
   "outputs": [],
   "source": [
    "regions = list(mean_region)\n",
    "del regions[0]\n",
    "\n",
    "rent_by_region_COMBINED = pd.DataFrame()\n",
    "for region in regions:\n",
    "    region_dataframe = mean_region['Month'].to_frame()\n",
    "    region_dataframe['Region']=region\n",
    "    region_dataframe['Mean rents by region']=mean_region[region]\n",
    "    rent_by_region_COMBINED = pd.concat([rent_by_region_COMBINED, region_dataframe])\n",
    "rent_by_region_COMBINED.to_csv('REFORMATTED/Mean rents by region REFORMATTED.csv')\n",
    "# rent_by_region_COMBINED\n"
   ]
  },
  {
   "cell_type": "markdown",
   "metadata": {},
   "source": [
    "### Integrating Geometric Mean rents By Region dataset"
   ]
  },
  {
   "cell_type": "code",
   "execution_count": null,
   "metadata": {},
   "outputs": [],
   "source": [
    "geometric_region = pd.read_csv('RAW/MBIE Rental Bond Data/'+geometric_region_fname, parse_dates=['Month'], dayfirst=True)\n",
    "# geometric_region"
   ]
  },
  {
   "cell_type": "code",
   "execution_count": null,
   "metadata": {},
   "outputs": [],
   "source": [
    "geometric_region_combined = pd.DataFrame()\n",
    "for region in regions:\n",
    "    region_dataframe = geometric_region['Month'].to_frame()\n",
    "    region_dataframe['Region']=region\n",
    "    region_dataframe['Geometric mean rents by region']=geometric_region[region]\n",
    "    geometric_region_combined = pd.concat([geometric_region_combined, region_dataframe])\n",
    "geometric_region_combined.to_csv('REFORMATTED/Geometric mean rents by region REFORMATTED.csv')\n",
    "# geometric_region_combined\n"
   ]
  },
  {
   "cell_type": "code",
   "execution_count": null,
   "metadata": {},
   "outputs": [],
   "source": [
    "rent_by_region_COMBINED['Geometric mean rents by region'] = geometric_region_combined['Geometric mean rents by region']\n",
    "# rent_by_region_COMBINED"
   ]
  },
  {
   "cell_type": "markdown",
   "metadata": {},
   "source": [
    "### Integrating Synthetic Lower Quartile Rents By Region dataset"
   ]
  },
  {
   "cell_type": "code",
   "execution_count": null,
   "metadata": {},
   "outputs": [],
   "source": [
    "lq_region = pd.read_csv('RAW/MBIE Rental Bond Data/'+lq_region_fname, parse_dates=['Month'], dayfirst=True)\n",
    "# lq_region"
   ]
  },
  {
   "cell_type": "code",
   "execution_count": null,
   "metadata": {},
   "outputs": [],
   "source": [
    "lq_region_combined = pd.DataFrame()\n",
    "for region in regions:\n",
    "    region_dataframe = lq_region['Month'].to_frame()\n",
    "    region_dataframe['Region'] = region\n",
    "    region_dataframe['Synthetic lower quartile rents by region'] = lq_region[region]\n",
    "    lq_region_combined = pd.concat([lq_region_combined, region_dataframe])\n",
    "lq_region_combined.to_csv('REFORMATTED/Synthetic lower quartile rents by region REFORMATTED.csv')\n",
    "# lq_region_combined\n"
   ]
  },
  {
   "cell_type": "code",
   "execution_count": null,
   "metadata": {},
   "outputs": [],
   "source": [
    "rent_by_region_COMBINED['Synthetic lower quartile rents by region'] = lq_region_combined['Synthetic lower quartile rents by region']\n",
    "# rent_by_region_COMBINED"
   ]
  },
  {
   "cell_type": "markdown",
   "metadata": {},
   "source": [
    "### Integrating Synthetic Upper Quartile Rents By Region dataset"
   ]
  },
  {
   "cell_type": "code",
   "execution_count": null,
   "metadata": {},
   "outputs": [],
   "source": [
    "uq_region = pd.read_csv('RAW/MBIE Rental Bond Data/'+uq_region_fname, parse_dates=['Month'],  dayfirst=True)\n",
    "# lq_region"
   ]
  },
  {
   "cell_type": "code",
   "execution_count": null,
   "metadata": {},
   "outputs": [],
   "source": [
    "uq_region_combined = pd.DataFrame()\n",
    "for region in regions:\n",
    "    region_dataframe = uq_region['Month'].to_frame()\n",
    "    region_dataframe['Region'] = region\n",
    "    region_dataframe['Synthetic upper quartile rents by region'] = uq_region[region]\n",
    "    uq_region_combined = pd.concat([uq_region_combined, region_dataframe])\n",
    "uq_region_combined.to_csv('REFORMATTED/Synthetic upper quartile rents by region REFORMATTED.csv')\n",
    "# uq_region_combined"
   ]
  },
  {
   "cell_type": "code",
   "execution_count": null,
   "metadata": {},
   "outputs": [],
   "source": [
    "rent_by_region_COMBINED['Synthetic upper quartile rents by region'] = uq_region_combined['Synthetic upper quartile rents by region']\n",
    "# rent_by_region_COMBINED"
   ]
  },
  {
   "cell_type": "markdown",
   "metadata": {},
   "source": [
    "### Integrating Lodged bonds by region dataset"
   ]
  },
  {
   "cell_type": "code",
   "execution_count": null,
   "metadata": {},
   "outputs": [],
   "source": [
    "lodged_bonds_region = pd.read_csv('RAW/MBIE Rental Bond Data/'+lodged_bonds_region_fname, parse_dates=['Month'], dayfirst=True)\n",
    "lodged_bonds_region "
   ]
  },
  {
   "cell_type": "code",
   "execution_count": null,
   "metadata": {},
   "outputs": [],
   "source": [
    "regions = list(lodged_bonds_region)\n",
    "del regions[0]\n",
    "\n",
    "lodged_bonds_region_COMBINED = pd.DataFrame()\n",
    "for region in regions:\n",
    "    region_dataframe = lodged_bonds_region['Month'].to_frame()\n",
    "    region_dataframe['Region']=region\n",
    "    region_dataframe['Lodged bonds by region']=lodged_bonds_region[region]\n",
    "    lodged_bonds_region_COMBINED = pd.concat([lodged_bonds_region_COMBINED, region_dataframe])\n",
    "lodged_bonds_region_COMBINED.to_csv('REFORMATTED/Lodged bonds by region REFORMATTED.csv')\n",
    "lodged_bonds_region_COMBINED\n"
   ]
  },
  {
   "cell_type": "code",
   "execution_count": null,
   "metadata": {},
   "outputs": [],
   "source": [
    "rent_by_region_COMBINED['Lodged bonds by region'] = lodged_bonds_region_COMBINED['Lodged bonds by region']\n",
    "rent_by_region_COMBINED.to_csv('COMBINED/Rental data by region 1993-2018 COMBINED.csv')\n",
    "rent_by_region_COMBINED"
   ]
  },
  {
   "cell_type": "markdown",
   "metadata": {},
   "source": [
    "### Integrating Mean Rents By Territorial Authority dataset"
   ]
  },
  {
   "cell_type": "code",
   "execution_count": null,
   "metadata": {},
   "outputs": [],
   "source": [
    "mean_territory = pd.read_csv('RAW/MBIE Rental Bond Data/'+mean_territory_fname, parse_dates=['Month'], dayfirst=True)\n",
    "# mean_territory"
   ]
  },
  {
   "cell_type": "code",
   "execution_count": null,
   "metadata": {},
   "outputs": [],
   "source": [
    "territories = list(mean_territory)\n",
    "del territories[0]\n",
    "\n",
    "rent_by_territory_COMBINED = pd.DataFrame()\n",
    "for territory in territories:\n",
    "    territory_dataframe = mean_territory['Month'].to_frame()\n",
    "    territory_dataframe['Territorial Authority'] = territory\n",
    "    territory_dataframe['Mean rents by territorial authority'] = mean_territory[territory]\n",
    "    rent_by_territory_COMBINED = pd.concat([rent_by_territory_COMBINED, territory_dataframe])\n",
    "rent_by_territory_COMBINED.to_csv('REFORMATTED/Mean rents by territorial authority REFORMATTED.csv')\n",
    "# rent_by_territory_COMBINED"
   ]
  },
  {
   "cell_type": "markdown",
   "metadata": {},
   "source": [
    "### Integrating Geometric Mean Rents By Territorial Authority dataset"
   ]
  },
  {
   "cell_type": "code",
   "execution_count": null,
   "metadata": {},
   "outputs": [],
   "source": [
    "geometric_territory = pd.read_csv('RAW/MBIE Rental Bond Data/'+geometric_territory_fname, parse_dates=['Month'], dayfirst=True)\n",
    "# geometric_territory"
   ]
  },
  {
   "cell_type": "code",
   "execution_count": null,
   "metadata": {},
   "outputs": [],
   "source": [
    "geometric_territory_combined = pd.DataFrame()\n",
    "for territory in territories:\n",
    "    territory_dataframe = geometric_territory['Month'].to_frame()\n",
    "    territory_dataframe['Territorial Authority'] = territory\n",
    "    territory_dataframe['Geometric mean rents by territorial authority'] = geometric_territory[territory]\n",
    "    geometric_territory_combined = pd.concat([geometric_territory_combined, territory_dataframe])\n",
    "geometric_territory_combined.to_csv('REFORMATTED/Geometric mean rents by territorial authority REFORMATTED.csv')\n",
    "# geometric_territory_combined"
   ]
  },
  {
   "cell_type": "code",
   "execution_count": null,
   "metadata": {},
   "outputs": [],
   "source": [
    "rent_by_territory_COMBINED['Geometric mean rents by territorial authority'] = geometric_territory_combined['Geometric mean rents by territorial authority']\n",
    "# rent_by_territory_COMBINED"
   ]
  },
  {
   "cell_type": "markdown",
   "metadata": {},
   "source": [
    "### Integrating Synthetic Lower Quartile Rents By Territorial Authority dataset"
   ]
  },
  {
   "cell_type": "code",
   "execution_count": null,
   "metadata": {},
   "outputs": [],
   "source": [
    "lq_territory = pd.read_csv('RAW/MBIE Rental Bond Data/'+lq_territory_fname, parse_dates=['Month'], dayfirst=True)\n",
    "# lq_territory"
   ]
  },
  {
   "cell_type": "code",
   "execution_count": null,
   "metadata": {},
   "outputs": [],
   "source": [
    "lq_territory_combined = pd.DataFrame()\n",
    "for territory in territories:\n",
    "    territory_dataframe = lq_territory['Month'].to_frame()\n",
    "    territory_dataframe['Territorial Authority'] = territory\n",
    "    territory_dataframe['Synthetic lower quartile rents by territorial authority'] = lq_territory[territory]\n",
    "    lq_territory_combined = pd.concat([lq_territory_combined, territory_dataframe])\n",
    "lq_territory_combined.to_csv('REFORMATTED/Synthetic lower quartile rents by territorial authority REFORMATTED.csv')\n",
    "# lq_territory_combined"
   ]
  },
  {
   "cell_type": "code",
   "execution_count": null,
   "metadata": {},
   "outputs": [],
   "source": [
    "rent_by_territory_COMBINED['Synthetic lower quartile rents by territorial authority'] = lq_territory_combined['Synthetic lower quartile rents by territorial authority']\n",
    "# rent_by_territory_COMBINED"
   ]
  },
  {
   "cell_type": "markdown",
   "metadata": {},
   "source": [
    "### Integrating Synthetic Upper Quartile Rents By Territorial Authority dataset"
   ]
  },
  {
   "cell_type": "code",
   "execution_count": null,
   "metadata": {},
   "outputs": [],
   "source": [
    "uq_territory = pd.read_csv('RAW/MBIE Rental Bond Data/'+uq_territory_fname, parse_dates=['Month'], dayfirst=True)\n",
    "# uq_territory"
   ]
  },
  {
   "cell_type": "code",
   "execution_count": null,
   "metadata": {},
   "outputs": [],
   "source": [
    "uq_territory_combined = pd.DataFrame()\n",
    "for territory in territories:\n",
    "    territory_dataframe = uq_territory['Month'].to_frame()\n",
    "    territory_dataframe['Territorial Authority'] = territory\n",
    "    territory_dataframe['Synthetic upper quartile rents by territorial authority'] = uq_territory[territory]\n",
    "    uq_territory_combined = pd.concat([uq_territory_combined, territory_dataframe])\n",
    "uq_territory_combined.to_csv('REFORMATTED/Synthetic upper quartile rents by territorial authority REFORMATTED.csv')\n",
    "# uq_territory_combined"
   ]
  },
  {
   "cell_type": "code",
   "execution_count": null,
   "metadata": {},
   "outputs": [],
   "source": [
    "rent_by_territory_COMBINED['Synthetic upper quartile rents by territorial authority'] = uq_territory_combined['Synthetic upper quartile rents by territorial authority']\n",
    "rent_by_territory_COMBINED.to_csv('COMBINED/Rental data by territorial authority 1993-2018 COMBINED.csv')\n",
    "# rent_by_territory_COMBINED"
   ]
  },
  {
   "cell_type": "markdown",
   "metadata": {},
   "source": [
    "### Integrating Lodged bonds by territorial authority dataset"
   ]
  },
  {
   "cell_type": "code",
   "execution_count": null,
   "metadata": {},
   "outputs": [],
   "source": [
    "lodged_bonds_territory = pd.read_csv('RAW/MBIE Rental Bond Data/'+lodged_bonds_territory_fname, parse_dates=['Month'], dayfirst=True)\n",
    "lodged_bonds_territory"
   ]
  },
  {
   "cell_type": "code",
   "execution_count": null,
   "metadata": {},
   "outputs": [],
   "source": [
    "territories = list(lodged_bonds_territory)\n",
    "del territories[0]\n",
    "territories\n",
    "\n",
    "\n",
    "lodged_bonds_territory_COMBINED = pd.DataFrame()\n",
    "for territory in territories:\n",
    "    territory_dataframe = lodged_bonds_territory['Month'].to_frame()\n",
    "    territory_dataframe['Territorial Authority'] = territory\n",
    "    territory_dataframe['Lodged bonds by territorial authority'] = lodged_bonds_territory[territory]\n",
    "    lodged_bonds_territory_COMBINED = pd.concat([lodged_bonds_territory_COMBINED, territory_dataframe])\n",
    "    \n",
    "lodged_bonds_territory_COMBINED.to_csv('REFORMATTED/Lodged bonds by territorial authority REFORMATTED.csv')\n",
    "lodged_bonds_territory_COMBINED"
   ]
  },
  {
   "cell_type": "code",
   "execution_count": null,
   "metadata": {},
   "outputs": [],
   "source": [
    "rent_by_territory_COMBINED['Lodged bonds by territorial authority'] = lodged_bonds_territory_COMBINED['Lodged bonds by territorial authority']\n",
    "rent_by_territory_COMBINED"
   ]
  },
  {
   "cell_type": "markdown",
   "metadata": {},
   "source": [
    "### Merging Rent by Region and Reny By Territorial Authority datasets\n",
    "Only the last five years worth of data may be relevant."
   ]
  },
  {
   "cell_type": "code",
   "execution_count": null,
   "metadata": {},
   "outputs": [],
   "source": [
    "#Cleaning datasets of empty cells\n",
    "\n",
    "if rent_by_region_COMBINED.empty:\n",
    "        rent_by_region_COMBINED = np.nan\n",
    "rent_by_region_COMBINED = rent_by_region_COMBINED.dropna()\n",
    "\n",
    "if rent_by_territory_COMBINED.empty:\n",
    "        rent_by_territory_COMBINED = np.nan\n",
    "rent_by_territory_COMBINED = rent_by_territory_COMBINED.dropna()\n"
   ]
  },
  {
   "cell_type": "code",
   "execution_count": null,
   "metadata": {},
   "outputs": [],
   "source": [
    "#Only care about data up to give years ago\n",
    "rent_by_region_COMBINED = rent_by_region_COMBINED[(rent_by_region_COMBINED['Month'].dt.year > 2013)]\n",
    "rent_by_territory_COMBINED = rent_by_territory_COMBINED[(rent_by_territory_COMBINED['Month'].dt.year > 2013)]\n",
    "rent_by_territory_COMBINED"
   ]
  },
  {
   "cell_type": "code",
   "execution_count": null,
   "metadata": {},
   "outputs": [],
   "source": [
    "region_territory = pd.read_csv(region_territory_fname)\n",
    "# region_territory"
   ]
  },
  {
   "cell_type": "code",
   "execution_count": null,
   "metadata": {},
   "outputs": [],
   "source": [
    "region_territory_COMBINED = rent_by_territory_COMBINED\n",
    "\n",
    "def add_region(x):\n",
    "    region_df = region_territory.apply(lambda y: y['Region'] if (x['Territorial Authority']==y['Territorial Authority'])else None, axis=1)\n",
    "    region_df = region_df.dropna(axis=0, how='all') \n",
    "    \n",
    "    if region_df.empty:\n",
    "        region_df= np.nan\n",
    "    else: \n",
    "        region_df= region_df.to_string(index=False)\n",
    "        \n",
    "    return region_df\n",
    "\n",
    "if 'Region' in region_territory_COMBINED.columns:\n",
    "    region_territory_COMBINED = region_territory_COMBINED.drop(\"Region\", axis=1)\n",
    "    region_territory_COMBINED.insert(1, \"Region\", '')\n",
    "else:\n",
    "    region_territory_COMBINED.insert(1, \"Region\", '')"
   ]
  },
  {
   "cell_type": "code",
   "execution_count": null,
   "metadata": {},
   "outputs": [],
   "source": [
    "region_territory_COMBINED['Region'] = region_territory_COMBINED.apply(add_region, axis=1)\n",
    "region_territory_COMBINED\n",
    "# len(region_territory_COMBINED.Region.unique())"
   ]
  },
  {
   "cell_type": "code",
   "execution_count": null,
   "metadata": {},
   "outputs": [],
   "source": [
    "def add_mean_rents_region(x):\n",
    "    mean_rents_region_df = rent_by_region_COMBINED.apply(lambda y: y['Mean rents by region'] if (x['Month']==y['Month'] and x['Region']==y['Region'])else None, axis=1)\n",
    "    mean_rents_region_df = mean_rents_region_df.dropna(axis=0, how='all') \n",
    "    \n",
    "    if mean_rents_region_df.empty:\n",
    "        mean_rents_region_df= np.nan\n",
    "    else: \n",
    "        mean_rents_region_df= mean_rents_region_df.to_string(index=False)\n",
    "        \n",
    "    return mean_rents_region_df\n",
    "\n",
    "if 'Mean rents by region' in region_territory_COMBINED.columns:\n",
    "    region_territory_COMBINED = region_territory_COMBINED.drop(\"Mean rents by region\", axis=1)\n",
    "    region_territory_COMBINED.insert(3, \"Mean rents by region\", '')\n",
    "else:\n",
    "    region_territory_COMBINED.insert(3, \"Mean rents by region\", '')\n",
    "# region_territory_COMBINED"
   ]
  },
  {
   "cell_type": "code",
   "execution_count": null,
   "metadata": {},
   "outputs": [],
   "source": [
    "region_territory_COMBINED['Mean rents by region'] = region_territory_COMBINED.apply(add_mean_rents_region, axis=1)\n",
    "region_territory_COMBINED"
   ]
  },
  {
   "cell_type": "code",
   "execution_count": null,
   "metadata": {},
   "outputs": [],
   "source": [
    "def add_geo_mean_rents_region(x):\n",
    "    geo_mean_rents_region_df = rent_by_region_COMBINED.apply(lambda y: y['Geometric mean rents by region'] if (x['Month']==y['Month'] and x['Region']==y['Region'])else None, axis=1)\n",
    "    geo_mean_rents_region_df = geo_mean_rents_region_df.dropna(axis=0, how='all') \n",
    "    \n",
    "    if geo_mean_rents_region_df.empty:\n",
    "        geo_mean_rents_region_df= np.nan\n",
    "    else: \n",
    "        geo_mean_rents_region_df= geo_mean_rents_region_df.to_string(index=False)\n",
    "        \n",
    "    return geo_mean_rents_region_df\n",
    "\n",
    "if 'Geometric mean rents by region' in region_territory_COMBINED.columns:\n",
    "    region_territory_COMBINED = region_territory_COMBINED.drop(\"Geometric mean rents by region\", axis=1)\n",
    "    region_territory_COMBINED.insert(5, \"Geometric mean rents by region\", '')\n",
    "else:\n",
    "    region_territory_COMBINED.insert(5, \"Geometric mean rents by region\", '')\n",
    "# region_territory_COMBINED"
   ]
  },
  {
   "cell_type": "code",
   "execution_count": null,
   "metadata": {},
   "outputs": [],
   "source": [
    "region_territory_COMBINED['Geometric mean rents by region'] = region_territory_COMBINED.apply(add_geo_mean_rents_region, axis=1)\n",
    "region_territory_COMBINED"
   ]
  },
  {
   "cell_type": "code",
   "execution_count": null,
   "metadata": {},
   "outputs": [],
   "source": [
    "def add_lq_rents_region(x):\n",
    "    lq_rents_region_df = rent_by_region_COMBINED.apply(lambda y: y['Synthetic lower quartile rents by region'] if (x['Month']==y['Month'] and x['Region']==y['Region'])else None, axis=1)\n",
    "    lq_rents_region_df = lq_rents_region_df.dropna(axis=0, how='all') \n",
    "    \n",
    "    if lq_rents_region_df.empty:\n",
    "        lq_rents_region_df= np.nan\n",
    "    else: \n",
    "        lq_rents_region_df= lq_rents_region_df.to_string(index=False)\n",
    "    \n",
    "    return lq_rents_region_df\n",
    "\n",
    "if 'Synthetic lower quartile rents by region' in region_territory_COMBINED.columns:\n",
    "    region_territory_COMBINED = region_territory_COMBINED.drop(\"Synthetic lower quartile rents by region\", axis=1)\n",
    "    region_territory_COMBINED.insert(7, \"Synthetic lower quartile rents by region\", '')\n",
    "else:\n",
    "    region_territory_COMBINED.insert(7, \"Synthetic lower quartile rents by region\", '')\n",
    "region_territory_COMBINED"
   ]
  },
  {
   "cell_type": "code",
   "execution_count": null,
   "metadata": {},
   "outputs": [],
   "source": [
    "region_territory_COMBINED['Synthetic lower quartile rents by region'] = region_territory_COMBINED.apply(add_lq_rents_region, axis=1)\n",
    "region_territory_COMBINED"
   ]
  },
  {
   "cell_type": "code",
   "execution_count": null,
   "metadata": {},
   "outputs": [],
   "source": [
    "def add_uq_rents_region(x):\n",
    "    uq_rents_region_df = rent_by_region_COMBINED.apply(lambda y: y['Synthetic upper quartile rents by region'] if (x['Month']==y['Month'] and x['Region']==y['Region'])else None, axis=1)\n",
    "    uq_rents_region_df = uq_rents_region_df.dropna(axis=0, how='all') \n",
    "    \n",
    "    if uq_rents_region_df.empty:\n",
    "        uq_rents_region_df= np.nan\n",
    "    else: \n",
    "        uq_rents_region_df= uq_rents_region_df.to_string(index=False)\n",
    "    \n",
    "    return uq_rents_region_df\n",
    "\n",
    "if 'Synthetic upper quartile rents by region' in region_territory_COMBINED.columns:\n",
    "    region_territory_COMBINED = region_territory_COMBINED.drop(\"Synthetic upper quartile rents by region\", axis=1)\n",
    "    region_territory_COMBINED.insert(9, \"Synthetic upper quartile rents by region\", '')\n",
    "else:\n",
    "    region_territory_COMBINED.insert(9, \"Synthetic upper quartile rents by region\", '')\n",
    "region_territory_COMBINED"
   ]
  },
  {
   "cell_type": "code",
   "execution_count": null,
   "metadata": {},
   "outputs": [],
   "source": [
    "region_territory_COMBINED['Synthetic upper quartile rents by region'] = region_territory_COMBINED.apply(add_uq_rents_region, axis=1)\n",
    "region_territory_COMBINED"
   ]
  },
  {
   "cell_type": "code",
   "execution_count": null,
   "metadata": {},
   "outputs": [],
   "source": [
    "def add_lodged_bonds_region(x):\n",
    "    lodged_bonds__region_df = rent_by_region_COMBINED.apply(lambda y: y['Lodged bonds by region'] if (x['Month']==y['Month'] and x['Region']==y['Region'])else None, axis=1)\n",
    "    lodged_bonds__region_df = lodged_bonds__region_df.dropna(axis=0, how='all') \n",
    "    \n",
    "    if lodged_bonds__region_df.empty:\n",
    "        lodged_bonds__region_df= np.nan\n",
    "    else: \n",
    "        lodged_bonds__region_df= lodged_bonds__region_df.to_string(index=False)\n",
    "    \n",
    "    return lodged_bonds__region_df\n",
    "\n",
    "if 'Lodged bonds by region' in region_territory_COMBINED.columns:\n",
    "    region_territory_COMBINED = region_territory_COMBINED.drop(\"Lodged bonds by region\", axis=1)\n",
    "    region_territory_COMBINED.insert(11, \"Lodged bonds by region\", '')\n",
    "else:\n",
    "    region_territory_COMBINED.insert(11, \"Lodged bonds by region\", '')"
   ]
  },
  {
   "cell_type": "code",
   "execution_count": null,
   "metadata": {},
   "outputs": [],
   "source": [
    "region_territory_COMBINED['Lodged bonds by region'] = region_territory_COMBINED.apply(add_lodged_bonds_region, axis=1)\n",
    "region_territory_COMBINED\n",
    "region_territory_COMBINED.to_csv('COMBINED/Rental data by region + territorial authority 2014-2018 COMBINED.csv')"
   ]
  },
  {
   "cell_type": "code",
   "execution_count": null,
   "metadata": {},
   "outputs": [],
   "source": []
  }
 ],
 "metadata": {
  "kernelspec": {
   "display_name": "Python 3",
   "language": "python",
   "name": "python3"
  },
  "language_info": {
   "codemirror_mode": {
    "name": "ipython",
    "version": 3
   },
   "file_extension": ".py",
   "mimetype": "text/x-python",
   "name": "python",
   "nbconvert_exporter": "python",
   "pygments_lexer": "ipython3",
   "version": "3.6.4"
  }
 },
 "nbformat": 4,
 "nbformat_minor": 2
}
